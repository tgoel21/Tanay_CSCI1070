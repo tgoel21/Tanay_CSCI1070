{
 "cells": [
  {
   "cell_type": "markdown",
   "id": "89cfddc2-919a-4ae2-be7e-36edf6ee31c8",
   "metadata": {},
   "source": [
    "# Loops and Functions"
   ]
  },
  {
   "cell_type": "code",
   "execution_count": 2,
   "id": "37682e1e-2b2a-4b75-8e3b-255547fae099",
   "metadata": {},
   "outputs": [
    {
     "ename": "SyntaxError",
     "evalue": "invalid syntax (1845947357.py, line 7)",
     "output_type": "error",
     "traceback": [
      "\u001b[0;36m  Cell \u001b[0;32mIn[2], line 7\u001b[0;36m\u001b[0m\n\u001b[0;31m    id a == b:\u001b[0m\n\u001b[0m       ^\u001b[0m\n\u001b[0;31mSyntaxError\u001b[0m\u001b[0;31m:\u001b[0m invalid syntax\n"
     ]
    }
   ],
   "source": [
    "# loops are flow control. Changes how code executes iteratively, how data moves through the application\n",
    "#if ... (elif ... else)\n",
    "#if and else are optional. Depends on what you are trying to do\n",
    "#if a equals b, return \"they are equal\". If a is greater than b \"a is greater\"\n",
    "# and if b is greater than a, return \"b is greater\n",
    "# == is comparing whereas = is setting something equal to something else (assigning a variable)\n",
    "id a == b:\n",
    "    print(\"they are equal\")\n",
    "elif a>b\n",
    "    print(\"a is greater\")\n",
    "elif b>a:\n",
    "    print (\"b is greater\")\n"
   ]
  },
  {
   "cell_type": "code",
   "execution_count": 3,
   "id": "a20e3f3f-9997-42da-98d8-52566eb79755",
   "metadata": {},
   "outputs": [
    {
     "name": "stdout",
     "output_type": "stream",
     "text": [
      "7\n",
      "6\n"
     ]
    }
   ],
   "source": [
    "# while loops\n",
    "#repeatedly test an expression and continue to run whatever is in the loop\n",
    "#until a stopping condition is met\n",
    "x = 7\n",
    "while x > 5:\n",
    "    print(x)\n",
    "    #decremenrt (to decrease) our x so it can stop\n",
    "    x = x - 1\n",
    "    x-=1"
   ]
  },
  {
   "cell_type": "code",
   "execution_count": 4,
   "id": "5fcd98b0-875d-4f3a-a62b-771da0337a0d",
   "metadata": {},
   "outputs": [
    {
     "name": "stdout",
     "output_type": "stream",
     "text": [
      "3\n",
      "4\n",
      "5\n",
      "6\n",
      "7\n",
      "8\n",
      "9\n"
     ]
    }
   ],
   "source": [
    "# Create a scenario where x starts at 3 and is incremented by 1\n",
    "# you print the value of x while x is less than 10\n",
    "x = 3\n",
    "while x < 10:\n",
    "    print(x)\n",
    "    x = x + 1"
   ]
  },
  {
   "cell_type": "code",
   "execution_count": 6,
   "id": "b8b21d9d-dbcf-4cdc-9f6d-1d336afa710b",
   "metadata": {},
   "outputs": [
    {
     "name": "stdout",
     "output_type": "stream",
     "text": [
      "Dexter\n",
      "Grumpy\n",
      "Pete\n",
      "Dotty\n",
      "Fluffy\n"
     ]
    }
   ],
   "source": [
    "cats = [\"Dexter\",\"Grumpy\",\"Pete\",\"Dotty\", \"Fluffy\"]\n",
    "for anything in cats:\n",
    "    print(anything)"
   ]
  },
  {
   "cell_type": "code",
   "execution_count": 9,
   "id": "d3bb170b-4552-452a-a8b0-8e7ac250b596",
   "metadata": {},
   "outputs": [
    {
     "name": "stdout",
     "output_type": "stream",
     "text": [
      "1\n",
      "2\n",
      "3\n",
      "4\n",
      "5\n",
      "6\n",
      "7\n",
      "8\n",
      "9\n",
      "10\n"
     ]
    }
   ],
   "source": [
    "# range(start, stop[, step])\n",
    "for r in range (1,10+1): #plus 1 adds 10 to it\n",
    "    print(r)"
   ]
  },
  {
   "cell_type": "code",
   "execution_count": 12,
   "id": "3d83fa09-d06e-4e42-a6ed-2533c321ec92",
   "metadata": {},
   "outputs": [],
   "source": [
    "# if we want our code to be resuable, we use a function!\n",
    "# any variables we use in the function needs to be passed in or defined in the function itself\n",
    "def comparison(a=0,b=0):\n",
    "    if a == b:\n",
    "        return \"they are equal\"\n",
    "    elif a>b:\n",
    "        return \"a is greater\"\n",
    "    elif b>a:\n",
    "        return \"b is greater\""
   ]
  },
  {
   "cell_type": "code",
   "execution_count": null,
   "id": "9d912028-95b2-4086-85aa-a5dc9c92be9c",
   "metadata": {},
   "outputs": [],
   "source": [
    "comparison (2,17)"
   ]
  },
  {
   "cell_type": "code",
   "execution_count": null,
   "id": "7ff7df6f-70f2-427b-9c1c-1e91c3992233",
   "metadata": {},
   "outputs": [],
   "source": [
    "comparison(14)\n",
    "# b is defaulted to zero"
   ]
  }
 ],
 "metadata": {
  "kernelspec": {
   "display_name": "Python 3 (ipykernel)",
   "language": "python",
   "name": "python3"
  },
  "language_info": {
   "codemirror_mode": {
    "name": "ipython",
    "version": 3
   },
   "file_extension": ".py",
   "mimetype": "text/x-python",
   "name": "python",
   "nbconvert_exporter": "python",
   "pygments_lexer": "ipython3",
   "version": "3.12.5"
  }
 },
 "nbformat": 4,
 "nbformat_minor": 5
}
