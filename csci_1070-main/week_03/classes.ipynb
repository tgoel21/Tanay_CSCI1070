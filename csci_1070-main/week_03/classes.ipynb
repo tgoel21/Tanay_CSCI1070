{
 "cells": [
  {
   "cell_type": "markdown",
   "id": "f9417a58-8e0a-4d11-b7c4-796de83a225b",
   "metadata": {},
   "source": [
    "# Constructors\n",
    "\n",
    "Constructors get created when you create an instance of a class.\n",
    "\n",
    "__init__(__ is \"dunder\")\n",
    "\n",
    "SELF is a default variable that contains the memory address of the current\n",
    "code youre working in."
   ]
  },
  {
   "cell_type": "code",
   "execution_count": 1,
   "id": "b8f22160-f73f-486d-be40-ec165e110d26",
   "metadata": {},
   "outputs": [
    {
     "name": "stdout",
     "output_type": "stream",
     "text": [
      "0\n"
     ]
    }
   ],
   "source": [
    "class a_sample_class:\n",
    "    #default/basic constructor\n",
    "    def __init__(self):\n",
    "        self.var = 0\n",
    "\n",
    "    #an instance method for printing\n",
    "    def print_vars(self):\n",
    "        print(self.var)\n",
    "\n",
    "#create instance of a class\n",
    "obj = a_sample_class()\n",
    "\n",
    "obj.print_vars()"
   ]
  },
  {
   "cell_type": "code",
   "execution_count": 2,
   "id": "39a80bd4-254d-49bd-ab9a-b326e860d36b",
   "metadata": {},
   "outputs": [
    {
     "name": "stdout",
     "output_type": "stream",
     "text": [
      "2\n"
     ]
    }
   ],
   "source": [
    "class a_sample_class:\n",
    "    #parameterized constructor\n",
    "    def __init__(self, one, two):\n",
    "        self.first = one\n",
    "        self.second = two\n",
    "\n",
    "    #an instance method for printing\n",
    "    def print_vars(self):\n",
    "        print(self.first)\n",
    "\n",
    "obj = a_sample_class(2,8)\n",
    "obj.print_vars()"
   ]
  },
  {
   "cell_type": "markdown",
   "id": "eed989e2-ca4d-4c5d-97e7-88c20c060d1a",
   "metadata": {},
   "source": [
    "# Instance Attributes and Class Attributes\n",
    "\n",
    "2 scopes for attributes\n",
    "\n",
    "instance attribute = variable that belongs to a specific instance of instantiation. Defined inside the constructor (init). Can access from the scope of an object (local)\n",
    "\n",
    "class attribute = type of variable that belongs to the class itself. Similar to static attributes in Java (not exactly the same). It is both a property of a class AND a property of the object. We can mutate a class attribute to be an instance attribute."
   ]
  },
  {
   "cell_type": "code",
   "execution_count": 3,
   "id": "19f2b53f-4b47-48da-a01d-e9190c0f3b01",
   "metadata": {},
   "outputs": [
    {
     "name": "stdout",
     "output_type": "stream",
     "text": [
      "Help on a_sample_class in module __main__ object:\n",
      "\n",
      "class a_sample_class(builtins.object)\n",
      " |  a_sample_class(one, two)\n",
      " |\n",
      " |  Methods defined here:\n",
      " |\n",
      " |  __init__(self, one, two)\n",
      " |      Initialize self.  See help(type(self)) for accurate signature.\n",
      " |\n",
      " |  print_vars(self)\n",
      " |      #an instance method for printing\n",
      " |\n",
      " |  ----------------------------------------------------------------------\n",
      " |  Data descriptors defined here:\n",
      " |\n",
      " |  __dict__\n",
      " |      dictionary for instance variables\n",
      " |\n",
      " |  __weakref__\n",
      " |      list of weak references to the object\n",
      "\n"
     ]
    }
   ],
   "source": [
    "help(obj)"
   ]
  },
  {
   "cell_type": "code",
   "execution_count": 4,
   "id": "d122a1fb-0aa8-42c3-93f9-eff76a354274",
   "metadata": {},
   "outputs": [
    {
     "data": {
      "text/plain": [
       "['In',\n",
       " 'Out',\n",
       " '_',\n",
       " '__',\n",
       " '___',\n",
       " '__builtin__',\n",
       " '__builtins__',\n",
       " '__doc__',\n",
       " '__loader__',\n",
       " '__name__',\n",
       " '__package__',\n",
       " '__session__',\n",
       " '__spec__',\n",
       " '_dh',\n",
       " '_i',\n",
       " '_i1',\n",
       " '_i2',\n",
       " '_i3',\n",
       " '_i4',\n",
       " '_ih',\n",
       " '_ii',\n",
       " '_iii',\n",
       " '_oh',\n",
       " 'a_sample_class',\n",
       " 'exit',\n",
       " 'get_ipython',\n",
       " 'obj',\n",
       " 'open',\n",
       " 'quit']"
      ]
     },
     "execution_count": 4,
     "metadata": {},
     "output_type": "execute_result"
    }
   ],
   "source": [
    "# dir = directory of names in the current local scope\n",
    "dir()"
   ]
  },
  {
   "cell_type": "code",
   "execution_count": 5,
   "id": "7b99ca8b-4678-465f-9399-66fb630063fb",
   "metadata": {},
   "outputs": [
    {
     "data": {
      "text/plain": [
       "{'__name__': '__main__',\n",
       " '__doc__': 'Automatically created module for IPython interactive environment',\n",
       " '__package__': None,\n",
       " '__loader__': None,\n",
       " '__spec__': None,\n",
       " '__builtin__': <module 'builtins' (built-in)>,\n",
       " '__builtins__': <module 'builtins' (built-in)>,\n",
       " '_ih': ['',\n",
       "  'class a_sample_class:\\n    #default/basic constructor\\n    def __init__(self):\\n        self.var = 0\\n\\n    #an instance method for printing\\n    def print_vars(self):\\n        print(self.var)\\n\\n#create instance of a class\\nobj = a_sample_class()\\n\\nobj.print_vars()',\n",
       "  'class a_sample_class:\\n    #parameterized constructor\\n    def __init__(self, one, two):\\n        self.first = one\\n        self.second = two\\n\\n    #an instance method for printing\\n    def print_vars(self):\\n        print(self.first)\\n\\nobj = a_sample_class(2,8)\\nobj.print_vars()',\n",
       "  'help(obj)',\n",
       "  '# dir = directory of names in the current local scope\\ndir()',\n",
       "  'globals()'],\n",
       " '_oh': {4: ['In',\n",
       "   'Out',\n",
       "   '_',\n",
       "   '__',\n",
       "   '___',\n",
       "   '__builtin__',\n",
       "   '__builtins__',\n",
       "   '__doc__',\n",
       "   '__loader__',\n",
       "   '__name__',\n",
       "   '__package__',\n",
       "   '__session__',\n",
       "   '__spec__',\n",
       "   '_dh',\n",
       "   '_i',\n",
       "   '_i1',\n",
       "   '_i2',\n",
       "   '_i3',\n",
       "   '_i4',\n",
       "   '_ih',\n",
       "   '_ii',\n",
       "   '_iii',\n",
       "   '_oh',\n",
       "   'a_sample_class',\n",
       "   'exit',\n",
       "   'get_ipython',\n",
       "   'obj',\n",
       "   'open',\n",
       "   'quit']},\n",
       " '_dh': [PosixPath('/Users/lex/Documents/repos/csci_1070_course_materials/csci_1070/week_03')],\n",
       " 'In': ['',\n",
       "  'class a_sample_class:\\n    #default/basic constructor\\n    def __init__(self):\\n        self.var = 0\\n\\n    #an instance method for printing\\n    def print_vars(self):\\n        print(self.var)\\n\\n#create instance of a class\\nobj = a_sample_class()\\n\\nobj.print_vars()',\n",
       "  'class a_sample_class:\\n    #parameterized constructor\\n    def __init__(self, one, two):\\n        self.first = one\\n        self.second = two\\n\\n    #an instance method for printing\\n    def print_vars(self):\\n        print(self.first)\\n\\nobj = a_sample_class(2,8)\\nobj.print_vars()',\n",
       "  'help(obj)',\n",
       "  '# dir = directory of names in the current local scope\\ndir()',\n",
       "  'globals()'],\n",
       " 'Out': {4: ['In',\n",
       "   'Out',\n",
       "   '_',\n",
       "   '__',\n",
       "   '___',\n",
       "   '__builtin__',\n",
       "   '__builtins__',\n",
       "   '__doc__',\n",
       "   '__loader__',\n",
       "   '__name__',\n",
       "   '__package__',\n",
       "   '__session__',\n",
       "   '__spec__',\n",
       "   '_dh',\n",
       "   '_i',\n",
       "   '_i1',\n",
       "   '_i2',\n",
       "   '_i3',\n",
       "   '_i4',\n",
       "   '_ih',\n",
       "   '_ii',\n",
       "   '_iii',\n",
       "   '_oh',\n",
       "   'a_sample_class',\n",
       "   'exit',\n",
       "   'get_ipython',\n",
       "   'obj',\n",
       "   'open',\n",
       "   'quit']},\n",
       " 'get_ipython': <bound method InteractiveShell.get_ipython of <ipykernel.zmqshell.ZMQInteractiveShell object at 0x103b1fdd0>>,\n",
       " 'exit': <IPython.core.autocall.ZMQExitAutocall at 0x103b646b0>,\n",
       " 'quit': <IPython.core.autocall.ZMQExitAutocall at 0x103b646b0>,\n",
       " 'open': <function _io.open(file, mode='r', buffering=-1, encoding=None, errors=None, newline=None, closefd=True, opener=None)>,\n",
       " '_': ['In',\n",
       "  'Out',\n",
       "  '_',\n",
       "  '__',\n",
       "  '___',\n",
       "  '__builtin__',\n",
       "  '__builtins__',\n",
       "  '__doc__',\n",
       "  '__loader__',\n",
       "  '__name__',\n",
       "  '__package__',\n",
       "  '__session__',\n",
       "  '__spec__',\n",
       "  '_dh',\n",
       "  '_i',\n",
       "  '_i1',\n",
       "  '_i2',\n",
       "  '_i3',\n",
       "  '_i4',\n",
       "  '_ih',\n",
       "  '_ii',\n",
       "  '_iii',\n",
       "  '_oh',\n",
       "  'a_sample_class',\n",
       "  'exit',\n",
       "  'get_ipython',\n",
       "  'obj',\n",
       "  'open',\n",
       "  'quit'],\n",
       " '__': '',\n",
       " '___': '',\n",
       " '__session__': '/Users/lex/Documents/repos/csci_1070_course_materials/csci_1070/week_03/Untitled.ipynb',\n",
       " '_i': '# dir = directory of names in the current local scope\\ndir()',\n",
       " '_ii': 'help(obj)',\n",
       " '_iii': 'class a_sample_class:\\n    #parameterized constructor\\n    def __init__(self, one, two):\\n        self.first = one\\n        self.second = two\\n\\n    #an instance method for printing\\n    def print_vars(self):\\n        print(self.first)\\n\\nobj = a_sample_class(2,8)\\nobj.print_vars()',\n",
       " '_i1': 'class a_sample_class:\\n    #default/basic constructor\\n    def __init__(self):\\n        self.var = 0\\n\\n    #an instance method for printing\\n    def print_vars(self):\\n        print(self.var)\\n\\n#create instance of a class\\nobj = a_sample_class()\\n\\nobj.print_vars()',\n",
       " 'a_sample_class': __main__.a_sample_class,\n",
       " 'obj': <__main__.a_sample_class at 0x103b677d0>,\n",
       " '_i2': 'class a_sample_class:\\n    #parameterized constructor\\n    def __init__(self, one, two):\\n        self.first = one\\n        self.second = two\\n\\n    #an instance method for printing\\n    def print_vars(self):\\n        print(self.first)\\n\\nobj = a_sample_class(2,8)\\nobj.print_vars()',\n",
       " '_i3': 'help(obj)',\n",
       " '_i4': '# dir = directory of names in the current local scope\\ndir()',\n",
       " '_4': ['In',\n",
       "  'Out',\n",
       "  '_',\n",
       "  '__',\n",
       "  '___',\n",
       "  '__builtin__',\n",
       "  '__builtins__',\n",
       "  '__doc__',\n",
       "  '__loader__',\n",
       "  '__name__',\n",
       "  '__package__',\n",
       "  '__session__',\n",
       "  '__spec__',\n",
       "  '_dh',\n",
       "  '_i',\n",
       "  '_i1',\n",
       "  '_i2',\n",
       "  '_i3',\n",
       "  '_i4',\n",
       "  '_ih',\n",
       "  '_ii',\n",
       "  '_iii',\n",
       "  '_oh',\n",
       "  'a_sample_class',\n",
       "  'exit',\n",
       "  'get_ipython',\n",
       "  'obj',\n",
       "  'open',\n",
       "  'quit'],\n",
       " '_i5': 'globals()'}"
      ]
     },
     "execution_count": 5,
     "metadata": {},
     "output_type": "execute_result"
    }
   ],
   "source": [
    "# returning the current module namespace\n",
    "# namespace = mapping between objects and current names. These are defined names, \n",
    "# and they also include information about the objects each name references\n",
    "globals()"
   ]
  },
  {
   "cell_type": "markdown",
   "id": "825736d4-8640-4cbd-b18d-88aeac08bd1d",
   "metadata": {},
   "source": [
    "# Instance, Class, and Static Methods"
   ]
  },
  {
   "cell_type": "code",
   "execution_count": 16,
   "id": "f84c455c-7ac1-4115-ba47-d1a590cfe444",
   "metadata": {},
   "outputs": [],
   "source": [
    "class Candy:\n",
    "    # variables that start with a single underscore are reserved for internal purposes\n",
    "    def __init__(self, _brand, \n",
    "                _is_caramel=False, \n",
    "                _is_chocolate=False, \n",
    "                _is_vegan=False,\n",
    "                _has_nuts=False,\n",
    "                _type='chocolate',\n",
    "                _calories=200,\n",
    "                _size='funsized'):\n",
    "        self.brand = _brand\n",
    "        self.is_caramel = _is_caramel\n",
    "        self.is_chocolate = _is_chocolate\n",
    "        self.is_vegan = _is_vegan \n",
    "        self.has_nuts = _has_nuts\n",
    "        self.calories = _calories\n",
    "        self.type = _type\n",
    "\n",
    "    #class method - used to modify the state of the class (for all instances)\n",
    "    @classmethod\n",
    "    def snickers(cls):\n",
    "        return cls('Mars',_is_caramel=True, _has_nuts=True, _type='Snickers')\n",
    "\n",
    "    #instance method - can access and modify both the class and instance state\n",
    "    # printing is accessing state\n",
    "    def display(self):\n",
    "        print(f'My favorite candy is {self.brand} {self.type}')\n",
    "\n",
    "    # static method - used for comparison or validation \n",
    "    # commonly used in data for checking if data meets particular conditions\n",
    "    # if you want to check the value without needing an instance of it\n",
    "    @staticmethod\n",
    "    def calories(size,n):\n",
    "        if size == 'large':\n",
    "            calories = 500\n",
    "        elif size == 'regular':\n",
    "            calories = 350\n",
    "        elif size == 'funsized':\n",
    "            calories = 100\n",
    "        else:\n",
    "            calories = 0\n",
    "\n",
    "        calories = calories*n\n",
    "        return calories"
   ]
  },
  {
   "cell_type": "code",
   "execution_count": 13,
   "id": "bfafb6b5-d0d4-4eda-a9db-b5c3f105ef8e",
   "metadata": {},
   "outputs": [
    {
     "name": "stdout",
     "output_type": "stream",
     "text": [
      "My favorite candy is Mars Snickers\n"
     ]
    }
   ],
   "source": [
    "snickers_bar = Candy.snickers()\n",
    "snickers_bar.display()"
   ]
  },
  {
   "cell_type": "code",
   "execution_count": 14,
   "id": "930d6ceb-b551-4a75-aebe-1a0667dbe1c8",
   "metadata": {},
   "outputs": [
    {
     "name": "stdout",
     "output_type": "stream",
     "text": [
      "My favorite candy is Hersheys Reeses\n"
     ]
    }
   ],
   "source": [
    "favorite_candy = Candy(_brand='Hersheys',_is_chocolate=True, \n",
    "                       _has_nuts=True,_type='Reeses')\n",
    "favorite_candy.display()"
   ]
  },
  {
   "cell_type": "code",
   "execution_count": 17,
   "id": "6bd195bc-3d28-4ddd-b085-528492c43f77",
   "metadata": {},
   "outputs": [
    {
     "data": {
      "text/plain": [
       "5000"
      ]
     },
     "execution_count": 17,
     "metadata": {},
     "output_type": "execute_result"
    }
   ],
   "source": [
    "Candy.calories('funsized',50)"
   ]
  },
  {
   "cell_type": "code",
   "execution_count": null,
   "id": "ff73591e-941e-4559-a926-1e72b3f0f027",
   "metadata": {},
   "outputs": [],
   "source": []
  }
 ],
 "metadata": {
  "kernelspec": {
   "display_name": "Python 3 (ipykernel)",
   "language": "python",
   "name": "python3"
  },
  "language_info": {
   "codemirror_mode": {
    "name": "ipython",
    "version": 3
   },
   "file_extension": ".py",
   "mimetype": "text/x-python",
   "name": "python",
   "nbconvert_exporter": "python",
   "pygments_lexer": "ipython3",
   "version": "3.12.5"
  }
 },
 "nbformat": 4,
 "nbformat_minor": 5
}
