{
 "cells": [
  {
   "cell_type": "markdown",
   "id": "9526f19e-3395-4cc6-9fe3-4bb93cde1bfd",
   "metadata": {},
   "source": [
    "# Data Types\n",
    "Anytime you want to open a notebook, you first open gitbash(WIndows) or terminal(Mac or linux)\n",
    "and you run \"jupyter notebook\""
   ]
  },
  {
   "cell_type": "code",
   "execution_count": 3,
   "id": "d520af6a-6e8e-450b-84b3-8cb636177cb8",
   "metadata": {},
   "outputs": [],
   "source": [
    "#to run a cell, you can press shift-enter on windows or mac or you can also \n",
    "#run command-enter on mac\n",
    "\n",
    "#assignment is giving a variable a value\n",
    "x = 5 # integer\n",
    "y = 6.7 #float/floating point decimal"
   ]
  },
  {
   "cell_type": "code",
   "execution_count": 5,
   "id": "f28e62b0-057b-4412-ae2c-adaea82b4b0b",
   "metadata": {},
   "outputs": [
    {
     "name": "stdout",
     "output_type": "stream",
     "text": [
      "5\n"
     ]
    }
   ],
   "source": [
    "print(x)\n",
    "# to get hints on a function, put your cursor in the function and press shift-tab"
   ]
  },
  {
   "cell_type": "code",
   "execution_count": 6,
   "id": "56b73ef5-6616-42f2-8de1-32d0d3d97b8a",
   "metadata": {},
   "outputs": [
    {
     "data": {
      "text/plain": [
       "float"
      ]
     },
     "execution_count": 6,
     "metadata": {},
     "output_type": "execute_result"
    }
   ],
   "source": [
    "type(y)"
   ]
  },
  {
   "cell_type": "code",
   "execution_count": 7,
   "id": "83940f99-c6a2-4335-a3a5-8789ff9372e1",
   "metadata": {},
   "outputs": [],
   "source": [
    "# dictionaries are key: value pairs\n",
    "breakfast = {\"pancakes\":10, \n",
    "             \"bacon\": 30,\n",
    "             \"eggs\":150}"
   ]
  },
  {
   "cell_type": "code",
   "execution_count": 8,
   "id": "9ebd1088-d4be-401c-883c-bab450fcf5e1",
   "metadata": {},
   "outputs": [
    {
     "name": "stdout",
     "output_type": "stream",
     "text": [
      "150\n"
     ]
    }
   ],
   "source": [
    "print(breakfast[\"eggs\"])"
   ]
  },
  {
   "cell_type": "code",
   "execution_count": 9,
   "id": "3e672248-b21c-4cf9-9d7b-9c913b739da3",
   "metadata": {},
   "outputs": [
    {
     "data": {
      "text/plain": [
       "bool"
      ]
     },
     "execution_count": 9,
     "metadata": {},
     "output_type": "execute_result"
    }
   ],
   "source": [
    "#booleans are true or false values\n",
    "is_true = False\n",
    "type(is_true)"
   ]
  },
  {
   "cell_type": "code",
   "execution_count": 12,
   "id": "5327f957-0016-4d3f-b182-c336d3b7863e",
   "metadata": {},
   "outputs": [
    {
     "name": "stdout",
     "output_type": "stream",
     "text": [
      "{'bacon', 'eggs', 'pancakes', 'coffee'}\n"
     ]
    }
   ],
   "source": [
    "#sets have unordered values and unchangeable values (immutable)\n",
    "breakfast_set = {\"eggs\",\"bacon\", \"pancakes\"}\n",
    "#sets cannot have duplicates. So, you cannot add something that is already there\n",
    "breakfast_set.add(\"coffee\")\n",
    "print(breakfast_set)"
   ]
  },
  {
   "cell_type": "code",
   "execution_count": 14,
   "id": "7d9c4249-904b-401a-ac5d-f521bd6edb8e",
   "metadata": {},
   "outputs": [
    {
     "name": "stdout",
     "output_type": "stream",
     "text": [
      "{'bacon', 'eggs', 'pancakes', 'coffee'}\n"
     ]
    }
   ],
   "source": [
    "breakfast_set.add(\"coffee\")\n",
    "print(breakfast_set)"
   ]
  },
  {
   "cell_type": "code",
   "execution_count": 16,
   "id": "82477f3a-f0c8-46e3-a4fb-bb7f89ab68e6",
   "metadata": {},
   "outputs": [
    {
     "data": {
      "text/plain": [
       "'March'"
      ]
     },
     "execution_count": 16,
     "metadata": {},
     "output_type": "execute_result"
    }
   ],
   "source": [
    "# list values can be changed and they are ordered\n",
    "#we count starting at 0. So, January is item 0, but there are still 3 items in this list\n",
    "months = [\"January\", \"February\", \"March\"]\n",
    "months[2]"
   ]
  },
  {
   "cell_type": "code",
   "execution_count": 17,
   "id": "61d4b73a-e755-4014-8beb-9f6442e69308",
   "metadata": {},
   "outputs": [
    {
     "data": {
      "text/plain": [
       "'coffee'"
      ]
     },
     "execution_count": 17,
     "metadata": {},
     "output_type": "execute_result"
    }
   ],
   "source": [
    "# tuples are ordered but unchangeable (immutable)\n",
    "breakfast_tuple = (\"coffee\", \"bagels\", \"cereal\")\n",
    "breakfast_tuple[0]"
   ]
  },
  {
   "cell_type": "code",
   "execution_count": 18,
   "id": "0933226c-458e-42cb-8196-3182e745c73f",
   "metadata": {},
   "outputs": [
    {
     "name": "stdout",
     "output_type": "stream",
     "text": [
      "3\n"
     ]
    }
   ],
   "source": [
    "print(len(breakfast_tuple)) # length is 3 because there are three items. "
   ]
  },
  {
   "cell_type": "code",
   "execution_count": 22,
   "id": "ce38e854-b281-4dc4-9254-cf9f0b855a28",
   "metadata": {},
   "outputs": [
    {
     "name": "stdout",
     "output_type": "stream",
     "text": [
      "['b', 'c']\n"
     ]
    }
   ],
   "source": [
    "# slicing uses the function slice. slice(start, end, step)\n",
    "letters_tuple = [\"a\", \"b\", \"c\", \"d\", \"e\"]\n",
    "x = slice(1, 3)\n",
    "print(letters_tuple[x])"
   ]
  },
  {
   "cell_type": "code",
   "execution_count": 23,
   "id": "bb3531e1-2028-4a0a-b862-a1aa6ce4e6d1",
   "metadata": {},
   "outputs": [
    {
     "data": {
      "text/plain": [
       "['b', 'c']"
      ]
     },
     "execution_count": 23,
     "metadata": {},
     "output_type": "execute_result"
    }
   ],
   "source": [
    "letters_tuple[1:3]"
   ]
  },
  {
   "cell_type": "code",
   "execution_count": 25,
   "id": "31157f47-0170-48db-ad8d-3755011422eb",
   "metadata": {},
   "outputs": [
    {
     "name": "stdout",
     "output_type": "stream",
     "text": [
      "['a', 'c', 'e']\n"
     ]
    }
   ],
   "source": [
    "# use slice to return a, c, and e\n",
    "# the end value is \"exclusive\" which means 0-5 does not include 5 itself.\n",
    "y = slice(0,5,2)\n",
    "print(letters_tuple[y])"
   ]
  },
  {
   "cell_type": "code",
   "execution_count": null,
   "id": "4cea3824-632f-46eb-ae43-206d88b99aba",
   "metadata": {},
   "outputs": [],
   "source": []
  }
 ],
 "metadata": {
  "kernelspec": {
   "display_name": "Python 3 (ipykernel)",
   "language": "python",
   "name": "python3"
  },
  "language_info": {
   "codemirror_mode": {
    "name": "ipython",
    "version": 3
   },
   "file_extension": ".py",
   "mimetype": "text/x-python",
   "name": "python",
   "nbconvert_exporter": "python",
   "pygments_lexer": "ipython3",
   "version": "3.12.1"
  }
 },
 "nbformat": 4,
 "nbformat_minor": 5
}
