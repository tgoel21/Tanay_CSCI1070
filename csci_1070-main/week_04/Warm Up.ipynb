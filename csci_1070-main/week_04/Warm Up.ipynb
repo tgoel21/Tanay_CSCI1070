{
 "cells": [
  {
   "cell_type": "code",
   "execution_count": null,
   "id": "53c1aa71-0b8b-49ff-af7d-f78edc3c3275",
   "metadata": {},
   "outputs": [],
   "source": [
    "import pandas as pd\n",
    "df = pd.read_csv('titanic.csv')\n",
    "grouped_df = df.groupby('departed').agg({\n",
    "    'price': 'mean',\n",
    "    'number_of_reviews': 'sum',\n",
    "    'availability_365': 'max'\n",
    "})\n",
    "print(grouped_df)"
   ]
  }
 ],
 "metadata": {
  "kernelspec": {
   "display_name": "Python 3 (ipykernel)",
   "language": "python",
   "name": "python3"
  },
  "language_info": {
   "codemirror_mode": {
    "name": "ipython",
    "version": 3
   },
   "file_extension": ".py",
   "mimetype": "text/x-python",
   "name": "python",
   "nbconvert_exporter": "python",
   "pygments_lexer": "ipython3",
   "version": "3.12.5"
  }
 },
 "nbformat": 4,
 "nbformat_minor": 5
}
