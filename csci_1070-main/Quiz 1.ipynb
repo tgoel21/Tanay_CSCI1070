{
 "cells": [
  {
   "cell_type": "code",
   "execution_count": 2,
   "id": "e8f040fc-1054-4fda-8ac0-aaf61f5a0831",
   "metadata": {},
   "outputs": [],
   "source": [
    "# 1. (2 pts) cd into the directory where you are keeping your material for this course (hopefully you have a root under which you see your course repo, my course repo (called \"csci_1070\"), and hopefully notes. Run tree command and take a screenshot of the output. "
   ]
  },
  {
   "cell_type": "code",
   "execution_count": null,
   "id": "f95d24c3-6524-4d42-9cbd-cac938bc1edd",
   "metadata": {},
   "outputs": [],
   "source": [
    "https://drive.google.com/file/d/18m1x8yB0kRH3OevRfeIqHrxAJoqYoRQu/view?usp=sharing"
   ]
  },
  {
   "cell_type": "code",
   "execution_count": 3,
   "id": "95b9ae63-02c3-45f9-aa11-eb6719071007",
   "metadata": {},
   "outputs": [],
   "source": [
    "# 2. (1 pt) Explain why your tree structure is what it is. For example, indicate which parts of the tree are repos, which are local folders, which are files, and what lives under each folder (based on the output you get from question 1)."
   ]
  },
  {
   "cell_type": "code",
   "execution_count": null,
   "id": "42f0d17b-b939-4cb6-8e6e-aa02da1e068e",
   "metadata": {},
   "outputs": [],
   "source": [
    "#The base of the tree shows the primary files and the braches in the tree are files inside the files"
   ]
  },
  {
   "cell_type": "code",
   "execution_count": null,
   "id": "116eb143-50bd-44ea-9c9e-c84f1cf16e4b",
   "metadata": {},
   "outputs": [],
   "source": [
    "# 3. (2 pts) Write a Python expression to iterate over the following dictionary:\n",
    "\n",
    "# months = [\"January\",\"February\",\"March\",\"April\",\"May\",\"June\",\"July\",\"August\",\"September\",\"October\",\"November\",\"December\"] . Have conditional logic to print \"my birthday\" if the month printed is your birth month. "
   ]
  },
  {
   "cell_type": "code",
   "execution_count": 8,
   "id": "725359a2-0738-42af-a51c-57be399daf9f",
   "metadata": {},
   "outputs": [
    {
     "name": "stdout",
     "output_type": "stream",
     "text": [
      "January\n",
      "February\n",
      "March\n",
      "April\n",
      "May\n",
      "June\n",
      "July\n",
      "August\n",
      "September\n",
      "October\n",
      "November my birthday\n",
      "December\n"
     ]
    }
   ],
   "source": [
    "months = [\"January\",\"February\",\"March\",\"April\",\"May\",\"June\",\"July\",\"August\",\"September\",\"October\",\"November\",\"December\"]\n",
    "birth_month = \"November\"\n",
    "for month in months:\n",
    "    if month == birth_month:\n",
    "        print(month, \"my birthday\")\n",
    "    else:\n",
    "        print(month)"
   ]
  },
  {
   "cell_type": "code",
   "execution_count": null,
   "id": "896654b2-a437-46cb-9577-cb510a902558",
   "metadata": {},
   "outputs": [],
   "source": []
  }
 ],
 "metadata": {
  "kernelspec": {
   "display_name": "Python 3 (ipykernel)",
   "language": "python",
   "name": "python3"
  },
  "language_info": {
   "codemirror_mode": {
    "name": "ipython",
    "version": 3
   },
   "file_extension": ".py",
   "mimetype": "text/x-python",
   "name": "python",
   "nbconvert_exporter": "python",
   "pygments_lexer": "ipython3",
   "version": "3.12.5"
  }
 },
 "nbformat": 4,
 "nbformat_minor": 5
}
