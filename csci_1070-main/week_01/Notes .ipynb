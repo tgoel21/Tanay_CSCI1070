{
 "cells": [
  {
   "cell_type": "code",
   "execution_count": 2,
   "id": "01fb905c-1bdd-488b-be1e-28ee3b95b0c0",
   "metadata": {},
   "outputs": [],
   "source": [
    "# Scope (LEGB rule)"
   ]
  },
  {
   "cell_type": "code",
   "execution_count": 4,
   "id": "c23f1d9a-98d5-4d15-b149-17459635da9d",
   "metadata": {},
   "outputs": [],
   "source": [
    "# Local- Only avaialable to other code in the scope. A function, for example, only have access to the names defined in that function or passed in that function via arguements"
   ]
  },
  {
   "cell_type": "code",
   "execution_count": 5,
   "id": "2982efca-f1b1-4e34-837b-4638cb8716bc",
   "metadata": {},
   "outputs": [],
   "source": [
    "# Enclosing- only exists for nested functions. Inner nests can have acess to the names in outer nests"
   ]
  },
  {
   "cell_type": "code",
   "execution_count": 6,
   "id": "ba1251e9-1d7f-4cde-b982-6018877b627e",
   "metadata": {},
   "outputs": [],
   "source": [
    "# Global- Available to all your code and can pass through modules, classes, etc."
   ]
  },
  {
   "cell_type": "code",
   "execution_count": 7,
   "id": "f857e007-1c9c-4804-a1ae-e2dfd1bb6730",
   "metadata": {},
   "outputs": [],
   "source": [
    "# Built in - all names that are created by python when you run a script"
   ]
  },
  {
   "cell_type": "code",
   "execution_count": 8,
   "id": "969b741d-8cc3-4e51-8bc7-e62101e09dd4",
   "metadata": {},
   "outputs": [],
   "source": [
    "# What does being aware of your scope help do or avoid?"
   ]
  },
  {
   "cell_type": "code",
   "execution_count": null,
   "id": "56ced238-ba65-4ef9-af2a-735befd870b6",
   "metadata": {},
   "outputs": [],
   "source": []
  },
  {
   "cell_type": "code",
   "execution_count": 9,
   "id": "ed1443d5-079b-4e67-862b-ae6fc0f59b77",
   "metadata": {},
   "outputs": [],
   "source": [
    "#Python Constructor\n",
    "# constructors get created when you create an instance of a class.\n",
    "__init__(__is \"dunder\")"
   ]
  },
  {
   "cell_type": "code",
   "execution_count": 10,
   "id": "9b2774d5-5ca9-47b6-a45d-992cc94de33d",
   "metadata": {},
   "outputs": [
    {
     "name": "stdout",
     "output_type": "stream",
     "text": [
      "0\n"
     ]
    }
   ],
   "source": [
    "class a_sample_class:\n",
    "\n",
    "    #default/basic constructor\n",
    "    def __init__(self):\n",
    "        self.var = 0\n",
    "\n",
    "    #an instance method for printing\n",
    "    def print_vars(self):\n",
    "        print(self.var)\n",
    "\n",
    "#create instance of a class\n",
    "obj = a_sample_class()\n",
    "\n",
    "obj.print_vars()\n",
    "        "
   ]
  },
  {
   "cell_type": "code",
   "execution_count": 11,
   "id": "49a9546d-83f9-401d-bf50-5eadba295bf7",
   "metadata": {},
   "outputs": [
    {
     "ename": "SyntaxError",
     "evalue": "incomplete input (866203008.py, line 8)",
     "output_type": "error",
     "traceback": [
      "\u001b[0;36m  Cell \u001b[0;32mIn[11], line 8\u001b[0;36m\u001b[0m\n\u001b[0;31m    print(self\u001b[0m\n\u001b[0m              ^\u001b[0m\n\u001b[0;31mSyntaxError\u001b[0m\u001b[0;31m:\u001b[0m incomplete input\n"
     ]
    }
   ],
   "source": [
    "class a_sample_class:\n",
    "    #parameterized constructor\n",
    "    def __init__(self, one, two):\n",
    "        self.first = one\n",
    "        \n",
    "    # an instance method for printing\n",
    "    def print_vars(self):\n",
    "        print(self"
   ]
  },
  {
   "cell_type": "code",
   "execution_count": 13,
   "id": "1a5f5157-6dbf-4fbe-bb2c-b861b9bf5403",
   "metadata": {},
   "outputs": [
    {
     "ename": "TypeError",
     "evalue": "a_sample_class.__init__() takes 1 positional argument but 3 were given",
     "output_type": "error",
     "traceback": [
      "\u001b[0;31m---------------------------------------------------------------------------\u001b[0m",
      "\u001b[0;31mTypeError\u001b[0m                                 Traceback (most recent call last)",
      "Cell \u001b[0;32mIn[13], line 1\u001b[0m\n\u001b[0;32m----> 1\u001b[0m \u001b[38;5;28;43;01mclass\u001b[39;49;00m\u001b[43m \u001b[49m\u001b[38;5;21;43;01ma_sample_class\u001b[39;49;00m\u001b[43m:\u001b[49m\n\u001b[1;32m      2\u001b[0m \u001b[43m    \u001b[49m\u001b[43mclass_attr\u001b[49m\u001b[43m \u001b[49m\u001b[38;5;241;43m=\u001b[39;49m\u001b[43m \u001b[49m\u001b[38;5;241;43m5\u001b[39;49m\n\u001b[1;32m      3\u001b[0m \u001b[43m    \u001b[49m\u001b[38;5;66;43;03m#parameterized constructor\u001b[39;49;00m\n",
      "Cell \u001b[0;32mIn[13], line 9\u001b[0m, in \u001b[0;36ma_sample_class\u001b[0;34m()\u001b[0m\n\u001b[1;32m      6\u001b[0m     \u001b[38;5;28mself\u001b[39m\u001b[38;5;241m.\u001b[39msecond \u001b[38;5;241m=\u001b[39m two\n\u001b[1;32m      8\u001b[0m \u001b[38;5;66;03m#object is instance of class\u001b[39;00m\n\u001b[0;32m----> 9\u001b[0m obj \u001b[38;5;241m=\u001b[39m \u001b[43ma_sample_class\u001b[49m\u001b[43m(\u001b[49m\u001b[38;5;241;43m17\u001b[39;49m\u001b[43m,\u001b[49m\u001b[38;5;241;43m42\u001b[39;49m\u001b[43m)\u001b[49m\n\u001b[1;32m     11\u001b[0m \u001b[38;5;66;03m#instance attribute as property of object\u001b[39;00m\n\u001b[1;32m     12\u001b[0m \u001b[38;5;28mprint\u001b[39m(obj\u001b[38;5;241m.\u001b[39mfirst)\n",
      "\u001b[0;31mTypeError\u001b[0m: a_sample_class.__init__() takes 1 positional argument but 3 were given"
     ]
    }
   ],
   "source": [
    "class a_sample_class:\n",
    "    class_attr = 5\n",
    "    #parameterized constructor\n",
    "    def __init__(self, one, two):\n",
    "        self.first = one\n",
    "        self.second = two\n",
    "\n",
    "    #object is instance of class\n",
    "    obj = a_sample_class(17,42)\n",
    "\n",
    "    #instance attribute as property of object\n",
    "    print(obj.first)\n",
    "\n",
    "    #class attribute as property of object\n",
    "    print(obj.class_attr)\n",
    "\n",
    "    #instance attribute as a property of class\n",
    "    print(a_sample_class.first)\n",
    "\n",
    "    #class attribute as property of class\n",
    "    print(a_sample_class.class_attr)\n",
    "\n",
    "    \n",
    "        \n",
    "    # an instance method for printing\n",
    "    def print_vars(self):\n",
    "        print(self.var)\n",
    "\n",
    "#create instance of a class\n",
    "obj = a_sample_class()\n",
    "\n",
    "obj.print_vars()"
   ]
  },
  {
   "cell_type": "code",
   "execution_count": 14,
   "id": "cc1f62e0-755a-4ce2-8590-202cfbb92147",
   "metadata": {},
   "outputs": [
    {
     "ename": "SyntaxError",
     "evalue": "invalid syntax (1257189999.py, line 2)",
     "output_type": "error",
     "traceback": [
      "\u001b[0;36m  Cell \u001b[0;32mIn[14], line 2\u001b[0;36m\u001b[0m\n\u001b[0;31m    2 scopes for attributes\u001b[0m\n\u001b[0m      ^\u001b[0m\n\u001b[0;31mSyntaxError\u001b[0m\u001b[0;31m:\u001b[0m invalid syntax\n"
     ]
    }
   ],
   "source": [
    "# Instance attributes and class attributes\n",
    "2 scopes for attributes\n",
    "instance attribute = variable that belongs to a specific instance or instantiation.\n",
    "Defined inside the constructor and can access from the scope or local scope of an object. similar to static attributes in java similar but not completeley\n",
    "it is both an object of the class and a property of the object. we can mutate a class attribute to be an instance attribute.\n",
    "\n"
   ]
  },
  {
   "cell_type": "code",
   "execution_count": 15,
   "id": "58249136-9375-4469-8cbe-43aebdb1c888",
   "metadata": {},
   "outputs": [
    {
     "name": "stdout",
     "output_type": "stream",
     "text": [
      "Help on a_sample_class in module __main__ object:\n",
      "\n",
      "class a_sample_class(builtins.object)\n",
      " |  Methods defined here:\n",
      " |\n",
      " |  __init__(self)\n",
      " |      Initialize self.  See help(type(self)) for accurate signature.\n",
      " |\n",
      " |  print_vars(self)\n",
      " |      #an instance method for printing\n",
      " |\n",
      " |  ----------------------------------------------------------------------\n",
      " |  Data descriptors defined here:\n",
      " |\n",
      " |  __dict__\n",
      " |      dictionary for instance variables\n",
      " |\n",
      " |  __weakref__\n",
      " |      list of weak references to the object\n",
      "\n"
     ]
    }
   ],
   "source": [
    "help(obj)"
   ]
  },
  {
   "cell_type": "code",
   "execution_count": 16,
   "id": "51b54ecd-a81d-4b3c-b0c1-08da185169a6",
   "metadata": {},
   "outputs": [
    {
     "data": {
      "text/plain": [
       "['In',\n",
       " 'Out',\n",
       " '_',\n",
       " '__',\n",
       " '___',\n",
       " '__builtin__',\n",
       " '__builtins__',\n",
       " '__doc__',\n",
       " '__loader__',\n",
       " '__name__',\n",
       " '__package__',\n",
       " '__session__',\n",
       " '__spec__',\n",
       " '_dh',\n",
       " '_i',\n",
       " '_i1',\n",
       " '_i10',\n",
       " '_i11',\n",
       " '_i12',\n",
       " '_i13',\n",
       " '_i14',\n",
       " '_i15',\n",
       " '_i16',\n",
       " '_i2',\n",
       " '_i3',\n",
       " '_i4',\n",
       " '_i5',\n",
       " '_i6',\n",
       " '_i7',\n",
       " '_i8',\n",
       " '_i9',\n",
       " '_ih',\n",
       " '_ii',\n",
       " '_iii',\n",
       " '_oh',\n",
       " 'a_sample_class',\n",
       " 'exit',\n",
       " 'get_ipython',\n",
       " 'obj',\n",
       " 'open',\n",
       " 'quit']"
      ]
     },
     "execution_count": 16,
     "metadata": {},
     "output_type": "execute_result"
    }
   ],
   "source": [
    "# dir = a directrory of names in your current local scope\n",
    "dir()"
   ]
  },
  {
   "cell_type": "code",
   "execution_count": 18,
   "id": "a230737e-d74c-47f7-b4cd-c3d213769a1d",
   "metadata": {},
   "outputs": [
    {
     "data": {
      "text/plain": [
       "{'__name__': '__main__',\n",
       " '__doc__': 'Automatically created module for IPython interactive environment',\n",
       " '__package__': None,\n",
       " '__loader__': None,\n",
       " '__spec__': None,\n",
       " '__builtin__': <module 'builtins' (built-in)>,\n",
       " '__builtins__': <module 'builtins' (built-in)>,\n",
       " '_ih': ['',\n",
       "  'Scope (LEGB rule)',\n",
       "  '# Scope (LEGB rule)',\n",
       "  'Local- Only avaialable to other code in the scope. A function, for example, only have access to the names defined in that function or passed in that function via arguements',\n",
       "  '# Local- Only avaialable to other code in the scope. A function, for example, only have access to the names defined in that function or passed in that function via arguements',\n",
       "  '# Enclosing- only exists for nested functions. Inner nests can have acess to the names in outer nests',\n",
       "  '# Global- Available to all your code and can pass through modules, classes, etc.',\n",
       "  '# Built in - all names that are created by python when you run a script',\n",
       "  '# What does being aware of your scope help do or avoid?',\n",
       "  '#Python Constructor',\n",
       "  'class a_sample_class:\\n\\n    #default/basic constructor\\n    def __init__(self):\\n        self.var = 0\\n\\n    #an instance method for printing\\n    def print_vars(self):\\n        print(self.var)\\n\\n#create instance of a class\\nobj = a_sample_class()\\n\\nobj.print_vars()\\n        ',\n",
       "  'class a_sample_class:\\n    #parameterized constructor\\n    def __init__(self, one, two):\\n        self.first = one\\n        \\n    # an instance method for printing\\n    def print_vars(self):\\n        print(self',\n",
       "  'class a_sample_class:\\n    #parameterized constructor\\n    def __init__(self, one, two):\\n        self.first = one\\n        self.second = two\\n\\n    #object is instance of class\\n    obj = a_sample_class(17,42)\\n\\n    #instance attribute as property of object\\n    print(obj.first)\\n\\n    #class attribute as property of object\\n    print(obj.class_attr)\\n\\n    #instance attribute as a property of class\\n    print(a_sample_class.first)\\n\\n    #class attribute as property of class\\n    print(a_sample_class.class_attr)\\n\\n    \\n        \\n    # an instance method for printing\\n    def print_vars(self):\\n        print(self.var)\\n\\n#create instance of a class\\nobj = a_sample_class()\\n\\nobj.print_vars()',\n",
       "  'class a_sample_class:\\n    class_attr = 5\\n    #parameterized constructor\\n    def __init__(self, one, two):\\n        self.first = one\\n        self.second = two\\n\\n    #object is instance of class\\n    obj = a_sample_class(17,42)\\n\\n    #instance attribute as property of object\\n    print(obj.first)\\n\\n    #class attribute as property of object\\n    print(obj.class_attr)\\n\\n    #instance attribute as a property of class\\n    print(a_sample_class.first)\\n\\n    #class attribute as property of class\\n    print(a_sample_class.class_attr)\\n\\n    \\n        \\n    # an instance method for printing\\n    def print_vars(self):\\n        print(self.var)\\n\\n#create instance of a class\\nobj = a_sample_class()\\n\\nobj.print_vars()',\n",
       "  '# Instance attributes and class attributes\\n2 scopes for attributes\\ninstance attribute = variable that belongs to a specific instance or instantiation.\\nDefined inside the constructor and can access from the scope or local scope of an object. similar to static attributes in java similar but not completeley\\nit is both an object of the class and a property of the object. we can mutate a class attribute to be an instance attribute.',\n",
       "  'help(obj)',\n",
       "  '# dir = a directrory of names in your current local scope\\ndir()',\n",
       "  'globals()',\n",
       "  'globals() \\n# returning a current moduel namespace\\n# namespace= mapping betweemn objects and current names. These are defined names, and they also include information about the objects and the names'],\n",
       " '_oh': {16: ['In',\n",
       "   'Out',\n",
       "   '_',\n",
       "   '__',\n",
       "   '___',\n",
       "   '__builtin__',\n",
       "   '__builtins__',\n",
       "   '__doc__',\n",
       "   '__loader__',\n",
       "   '__name__',\n",
       "   '__package__',\n",
       "   '__session__',\n",
       "   '__spec__',\n",
       "   '_dh',\n",
       "   '_i',\n",
       "   '_i1',\n",
       "   '_i10',\n",
       "   '_i11',\n",
       "   '_i12',\n",
       "   '_i13',\n",
       "   '_i14',\n",
       "   '_i15',\n",
       "   '_i16',\n",
       "   '_i2',\n",
       "   '_i3',\n",
       "   '_i4',\n",
       "   '_i5',\n",
       "   '_i6',\n",
       "   '_i7',\n",
       "   '_i8',\n",
       "   '_i9',\n",
       "   '_ih',\n",
       "   '_ii',\n",
       "   '_iii',\n",
       "   '_oh',\n",
       "   'a_sample_class',\n",
       "   'exit',\n",
       "   'get_ipython',\n",
       "   'obj',\n",
       "   'open',\n",
       "   'quit'],\n",
       "  17: {...}},\n",
       " '_dh': [PosixPath('/Users/tanaygoel/Desktop/CSCI_1070course/Tanay_CSCI1070/csci_1070-main/csci_1070-main/week_01')],\n",
       " 'In': ['',\n",
       "  'Scope (LEGB rule)',\n",
       "  '# Scope (LEGB rule)',\n",
       "  'Local- Only avaialable to other code in the scope. A function, for example, only have access to the names defined in that function or passed in that function via arguements',\n",
       "  '# Local- Only avaialable to other code in the scope. A function, for example, only have access to the names defined in that function or passed in that function via arguements',\n",
       "  '# Enclosing- only exists for nested functions. Inner nests can have acess to the names in outer nests',\n",
       "  '# Global- Available to all your code and can pass through modules, classes, etc.',\n",
       "  '# Built in - all names that are created by python when you run a script',\n",
       "  '# What does being aware of your scope help do or avoid?',\n",
       "  '#Python Constructor',\n",
       "  'class a_sample_class:\\n\\n    #default/basic constructor\\n    def __init__(self):\\n        self.var = 0\\n\\n    #an instance method for printing\\n    def print_vars(self):\\n        print(self.var)\\n\\n#create instance of a class\\nobj = a_sample_class()\\n\\nobj.print_vars()\\n        ',\n",
       "  'class a_sample_class:\\n    #parameterized constructor\\n    def __init__(self, one, two):\\n        self.first = one\\n        \\n    # an instance method for printing\\n    def print_vars(self):\\n        print(self',\n",
       "  'class a_sample_class:\\n    #parameterized constructor\\n    def __init__(self, one, two):\\n        self.first = one\\n        self.second = two\\n\\n    #object is instance of class\\n    obj = a_sample_class(17,42)\\n\\n    #instance attribute as property of object\\n    print(obj.first)\\n\\n    #class attribute as property of object\\n    print(obj.class_attr)\\n\\n    #instance attribute as a property of class\\n    print(a_sample_class.first)\\n\\n    #class attribute as property of class\\n    print(a_sample_class.class_attr)\\n\\n    \\n        \\n    # an instance method for printing\\n    def print_vars(self):\\n        print(self.var)\\n\\n#create instance of a class\\nobj = a_sample_class()\\n\\nobj.print_vars()',\n",
       "  'class a_sample_class:\\n    class_attr = 5\\n    #parameterized constructor\\n    def __init__(self, one, two):\\n        self.first = one\\n        self.second = two\\n\\n    #object is instance of class\\n    obj = a_sample_class(17,42)\\n\\n    #instance attribute as property of object\\n    print(obj.first)\\n\\n    #class attribute as property of object\\n    print(obj.class_attr)\\n\\n    #instance attribute as a property of class\\n    print(a_sample_class.first)\\n\\n    #class attribute as property of class\\n    print(a_sample_class.class_attr)\\n\\n    \\n        \\n    # an instance method for printing\\n    def print_vars(self):\\n        print(self.var)\\n\\n#create instance of a class\\nobj = a_sample_class()\\n\\nobj.print_vars()',\n",
       "  '# Instance attributes and class attributes\\n2 scopes for attributes\\ninstance attribute = variable that belongs to a specific instance or instantiation.\\nDefined inside the constructor and can access from the scope or local scope of an object. similar to static attributes in java similar but not completeley\\nit is both an object of the class and a property of the object. we can mutate a class attribute to be an instance attribute.',\n",
       "  'help(obj)',\n",
       "  '# dir = a directrory of names in your current local scope\\ndir()',\n",
       "  'globals()',\n",
       "  'globals() \\n# returning a current moduel namespace\\n# namespace= mapping betweemn objects and current names. These are defined names, and they also include information about the objects and the names'],\n",
       " 'Out': {16: ['In',\n",
       "   'Out',\n",
       "   '_',\n",
       "   '__',\n",
       "   '___',\n",
       "   '__builtin__',\n",
       "   '__builtins__',\n",
       "   '__doc__',\n",
       "   '__loader__',\n",
       "   '__name__',\n",
       "   '__package__',\n",
       "   '__session__',\n",
       "   '__spec__',\n",
       "   '_dh',\n",
       "   '_i',\n",
       "   '_i1',\n",
       "   '_i10',\n",
       "   '_i11',\n",
       "   '_i12',\n",
       "   '_i13',\n",
       "   '_i14',\n",
       "   '_i15',\n",
       "   '_i16',\n",
       "   '_i2',\n",
       "   '_i3',\n",
       "   '_i4',\n",
       "   '_i5',\n",
       "   '_i6',\n",
       "   '_i7',\n",
       "   '_i8',\n",
       "   '_i9',\n",
       "   '_ih',\n",
       "   '_ii',\n",
       "   '_iii',\n",
       "   '_oh',\n",
       "   'a_sample_class',\n",
       "   'exit',\n",
       "   'get_ipython',\n",
       "   'obj',\n",
       "   'open',\n",
       "   'quit'],\n",
       "  17: {...}},\n",
       " 'get_ipython': <bound method InteractiveShell.get_ipython of <ipykernel.zmqshell.ZMQInteractiveShell object at 0x1052e05c0>>,\n",
       " 'exit': <IPython.core.autocall.ZMQExitAutocall at 0x1052e0950>,\n",
       " 'quit': <IPython.core.autocall.ZMQExitAutocall at 0x1052e0950>,\n",
       " 'open': <function _io.open(file, mode='r', buffering=-1, encoding=None, errors=None, newline=None, closefd=True, opener=None)>,\n",
       " '_': {...},\n",
       " '__': ['In',\n",
       "  'Out',\n",
       "  '_',\n",
       "  '__',\n",
       "  '___',\n",
       "  '__builtin__',\n",
       "  '__builtins__',\n",
       "  '__doc__',\n",
       "  '__loader__',\n",
       "  '__name__',\n",
       "  '__package__',\n",
       "  '__session__',\n",
       "  '__spec__',\n",
       "  '_dh',\n",
       "  '_i',\n",
       "  '_i1',\n",
       "  '_i10',\n",
       "  '_i11',\n",
       "  '_i12',\n",
       "  '_i13',\n",
       "  '_i14',\n",
       "  '_i15',\n",
       "  '_i16',\n",
       "  '_i2',\n",
       "  '_i3',\n",
       "  '_i4',\n",
       "  '_i5',\n",
       "  '_i6',\n",
       "  '_i7',\n",
       "  '_i8',\n",
       "  '_i9',\n",
       "  '_ih',\n",
       "  '_ii',\n",
       "  '_iii',\n",
       "  '_oh',\n",
       "  'a_sample_class',\n",
       "  'exit',\n",
       "  'get_ipython',\n",
       "  'obj',\n",
       "  'open',\n",
       "  'quit'],\n",
       " '___': '',\n",
       " '__session__': '/Users/tanaygoel/Desktop/CSCI_1070course/Tanay_CSCI1070/csci_1070-main/csci_1070-main/week_01/Untitled.ipynb',\n",
       " '_i': 'globals()',\n",
       " '_ii': '# dir = a directrory of names in your current local scope\\ndir()',\n",
       " '_iii': 'help(obj)',\n",
       " '_i1': 'Scope (LEGB rule)',\n",
       " '_i2': '# Scope (LEGB rule)',\n",
       " '_i3': 'Local- Only avaialable to other code in the scope. A function, for example, only have access to the names defined in that function or passed in that function via arguements',\n",
       " '_i4': '# Local- Only avaialable to other code in the scope. A function, for example, only have access to the names defined in that function or passed in that function via arguements',\n",
       " '_i5': '# Enclosing- only exists for nested functions. Inner nests can have acess to the names in outer nests',\n",
       " '_i6': '# Global- Available to all your code and can pass through modules, classes, etc.',\n",
       " '_i7': '# Built in - all names that are created by python when you run a script',\n",
       " '_i8': '# What does being aware of your scope help do or avoid?',\n",
       " '_i9': '#Python Constructor',\n",
       " '_i10': 'class a_sample_class:\\n\\n    #default/basic constructor\\n    def __init__(self):\\n        self.var = 0\\n\\n    #an instance method for printing\\n    def print_vars(self):\\n        print(self.var)\\n\\n#create instance of a class\\nobj = a_sample_class()\\n\\nobj.print_vars()\\n        ',\n",
       " 'a_sample_class': __main__.a_sample_class,\n",
       " 'obj': <__main__.a_sample_class at 0x104f5c440>,\n",
       " '_i11': 'class a_sample_class:\\n    #parameterized constructor\\n    def __init__(self, one, two):\\n        self.first = one\\n        \\n    # an instance method for printing\\n    def print_vars(self):\\n        print(self',\n",
       " '_i12': 'class a_sample_class:\\n    #parameterized constructor\\n    def __init__(self, one, two):\\n        self.first = one\\n        self.second = two\\n\\n    #object is instance of class\\n    obj = a_sample_class(17,42)\\n\\n    #instance attribute as property of object\\n    print(obj.first)\\n\\n    #class attribute as property of object\\n    print(obj.class_attr)\\n\\n    #instance attribute as a property of class\\n    print(a_sample_class.first)\\n\\n    #class attribute as property of class\\n    print(a_sample_class.class_attr)\\n\\n    \\n        \\n    # an instance method for printing\\n    def print_vars(self):\\n        print(self.var)\\n\\n#create instance of a class\\nobj = a_sample_class()\\n\\nobj.print_vars()',\n",
       " '_i13': 'class a_sample_class:\\n    class_attr = 5\\n    #parameterized constructor\\n    def __init__(self, one, two):\\n        self.first = one\\n        self.second = two\\n\\n    #object is instance of class\\n    obj = a_sample_class(17,42)\\n\\n    #instance attribute as property of object\\n    print(obj.first)\\n\\n    #class attribute as property of object\\n    print(obj.class_attr)\\n\\n    #instance attribute as a property of class\\n    print(a_sample_class.first)\\n\\n    #class attribute as property of class\\n    print(a_sample_class.class_attr)\\n\\n    \\n        \\n    # an instance method for printing\\n    def print_vars(self):\\n        print(self.var)\\n\\n#create instance of a class\\nobj = a_sample_class()\\n\\nobj.print_vars()',\n",
       " '_i14': '# Instance attributes and class attributes\\n2 scopes for attributes\\ninstance attribute = variable that belongs to a specific instance or instantiation.\\nDefined inside the constructor and can access from the scope or local scope of an object. similar to static attributes in java similar but not completeley\\nit is both an object of the class and a property of the object. we can mutate a class attribute to be an instance attribute.',\n",
       " '_i15': 'help(obj)',\n",
       " '_i16': '# dir = a directrory of names in your current local scope\\ndir()',\n",
       " '_16': ['In',\n",
       "  'Out',\n",
       "  '_',\n",
       "  '__',\n",
       "  '___',\n",
       "  '__builtin__',\n",
       "  '__builtins__',\n",
       "  '__doc__',\n",
       "  '__loader__',\n",
       "  '__name__',\n",
       "  '__package__',\n",
       "  '__session__',\n",
       "  '__spec__',\n",
       "  '_dh',\n",
       "  '_i',\n",
       "  '_i1',\n",
       "  '_i10',\n",
       "  '_i11',\n",
       "  '_i12',\n",
       "  '_i13',\n",
       "  '_i14',\n",
       "  '_i15',\n",
       "  '_i16',\n",
       "  '_i2',\n",
       "  '_i3',\n",
       "  '_i4',\n",
       "  '_i5',\n",
       "  '_i6',\n",
       "  '_i7',\n",
       "  '_i8',\n",
       "  '_i9',\n",
       "  '_ih',\n",
       "  '_ii',\n",
       "  '_iii',\n",
       "  '_oh',\n",
       "  'a_sample_class',\n",
       "  'exit',\n",
       "  'get_ipython',\n",
       "  'obj',\n",
       "  'open',\n",
       "  'quit'],\n",
       " '_i17': 'globals()',\n",
       " '_17': {...},\n",
       " '_i18': 'globals() \\n# returning a current moduel namespace\\n# namespace= mapping betweemn objects and current names. These are defined names, and they also include information about the objects and the names'}"
      ]
     },
     "execution_count": 18,
     "metadata": {},
     "output_type": "execute_result"
    }
   ],
   "source": [
    "globals() \n",
    "# returning a current moduel namespace\n",
    "# namespace= mapping betweemn objects and current names. These are defined names, and they also include information about the objects and the names"
   ]
  },
  {
   "cell_type": "code",
   "execution_count": 19,
   "id": "dba25c28-2f95-44e3-9ba6-51a076302d6d",
   "metadata": {},
   "outputs": [],
   "source": [
    "# instance class and static mathods"
   ]
  },
  {
   "cell_type": "code",
   "execution_count": 27,
   "id": "0bb745a5-2afa-426e-a96f-29dc925cd65d",
   "metadata": {},
   "outputs": [
    {
     "ename": "IndentationError",
     "evalue": "expected an indented block after function definition on line 3 (1880836246.py, line 10)",
     "output_type": "error",
     "traceback": [
      "\u001b[0;36m  Cell \u001b[0;32mIn[27], line 10\u001b[0;36m\u001b[0m\n\u001b[0;31m    self.brand = _brand\u001b[0m\n\u001b[0m                       ^\u001b[0m\n\u001b[0;31mIndentationError\u001b[0m\u001b[0;31m:\u001b[0m expected an indented block after function definition on line 3\n"
     ]
    }
   ],
   "source": [
    "class Candy:\n",
    "    #Variable that start with a single underscore are reserved for internal purposes\n",
    "    def __init__(self,_brand, \n",
    "                _is_caramel=False, \n",
    "                _is_chocolate=False,\n",
    "                _is_vegan=False,\n",
    "                _has_nuts=False,\n",
    "                _type='chocolate',\n",
    "                _calories=200):\n",
    "self.brand = _brand\n",
    "self.is_caramel =_is _caramel\n",
    "self.is_chocolate=_is_chocolate\n",
    "self.is_vegan=_is_vegan\n",
    "self.has_nuts=_has_nuts\n",
    "self.calories = _calories\n",
    "\n",
    "    @class method\n",
    "    def snickers(cls);\n",
    "        return cls()\n",
    "\n",
    "def display(self):\n",
    "    print(f'My favorite candy is {self.brand}"
   ]
  },
  {
   "cell_type": "code",
   "execution_count": 28,
   "id": "1ed91150-5d65-45a8-bd3c-cb613988edfd",
   "metadata": {},
   "outputs": [
    {
     "ename": "NameError",
     "evalue": "name 'Candy' is not defined",
     "output_type": "error",
     "traceback": [
      "\u001b[0;31m---------------------------------------------------------------------------\u001b[0m",
      "\u001b[0;31mNameError\u001b[0m                                 Traceback (most recent call last)",
      "Cell \u001b[0;32mIn[28], line 1\u001b[0m\n\u001b[0;32m----> 1\u001b[0m snickers_bar \u001b[38;5;241m=\u001b[39m \u001b[43mCandy\u001b[49m\u001b[38;5;241m.\u001b[39msnickers\n\u001b[1;32m      2\u001b[0m display\n",
      "\u001b[0;31mNameError\u001b[0m: name 'Candy' is not defined"
     ]
    }
   ],
   "source": [
    "snickers_bar = Candy.snickers\n",
    "display"
   ]
  },
  {
   "cell_type": "code",
   "execution_count": 31,
   "id": "ee932c33-d1da-456f-9c01-8e219d8893d6",
   "metadata": {},
   "outputs": [
    {
     "ename": "SyntaxError",
     "evalue": "invalid syntax (2892336133.py, line 1)",
     "output_type": "error",
     "traceback": [
      "\u001b[0;36m  Cell \u001b[0;32mIn[31], line 1\u001b[0;36m\u001b[0m\n\u001b[0;31m    favorite_candy = Candy(_brand.'hersheys')\u001b[0m\n\u001b[0m                                  ^\u001b[0m\n\u001b[0;31mSyntaxError\u001b[0m\u001b[0;31m:\u001b[0m invalid syntax\n"
     ]
    }
   ],
   "source": [
    "favorite_candy = Candy(_brand.'hersheys')\n",
    "favorite_candy.display()"
   ]
  },
  {
   "cell_type": "code",
   "execution_count": null,
   "id": "c87bcfaa-2982-4d0c-9a32-8c019af5fbd2",
   "metadata": {},
   "outputs": [],
   "source": []
  }
 ],
 "metadata": {
  "kernelspec": {
   "display_name": "Python 3 (ipykernel)",
   "language": "python",
   "name": "python3"
  },
  "language_info": {
   "codemirror_mode": {
    "name": "ipython",
    "version": 3
   },
   "file_extension": ".py",
   "mimetype": "text/x-python",
   "name": "python",
   "nbconvert_exporter": "python",
   "pygments_lexer": "ipython3",
   "version": "3.12.5"
  }
 },
 "nbformat": 4,
 "nbformat_minor": 5
}
