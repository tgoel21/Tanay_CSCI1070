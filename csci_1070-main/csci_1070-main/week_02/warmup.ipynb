{
 "cells": [
  {
   "cell_type": "code",
   "execution_count": 12,
   "id": "200c813d-7009-4cf1-98d2-654fe65b3741",
   "metadata": {},
   "outputs": [
    {
     "name": "stdin",
     "output_type": "stream",
     "text": [
      "Type in a number 86\n"
     ]
    },
    {
     "name": "stdout",
     "output_type": "stream",
     "text": [
      "even\n"
     ]
    }
   ],
   "source": [
    "#Tuesday\n",
    "num = int(input(\"Type in a number\"))\n",
    "if num % 2 == 0:\n",
    "    print(\"even\")\n",
    "else:\n",
    "    print(\"odd\")"
   ]
  },
  {
   "cell_type": "code",
   "execution_count": 6,
   "id": "651967c7-6519-4b70-aa12-a6036f7c4b52",
   "metadata": {},
   "outputs": [
    {
     "name": "stdout",
     "output_type": "stream",
     "text": [
      "The variable x has the value of a banana\n",
      "The variable x has the value of a banana\n"
     ]
    }
   ],
   "source": [
    "# Thursday\n",
    "x = 'a banana'\n",
    "#this is called string concatenation\n",
    "print(\"The variable x has the value of\",x)\n",
    "print(\"The variable x has the value of \"+x)"
   ]
  },
  {
   "cell_type": "code",
   "execution_count": 3,
   "id": "a4b5681a-3bcd-4bf3-a6fd-57c43aab359a",
   "metadata": {},
   "outputs": [
    {
     "name": "stdout",
     "output_type": "stream",
     "text": [
      "The variable x has the value of a banana\n"
     ]
    }
   ],
   "source": [
    "print(f\"The variable x has the value of {x}\")"
   ]
  },
  {
   "cell_type": "code",
   "execution_count": null,
   "id": "73d5df86-f2d1-495f-8866-76f5a5b78d6b",
   "metadata": {},
   "outputs": [],
   "source": []
  }
 ],
 "metadata": {
  "kernelspec": {
   "display_name": "Python 3 (ipykernel)",
   "language": "python",
   "name": "python3"
  },
  "language_info": {
   "codemirror_mode": {
    "name": "ipython",
    "version": 3
   },
   "file_extension": ".py",
   "mimetype": "text/x-python",
   "name": "python",
   "nbconvert_exporter": "python",
   "pygments_lexer": "ipython3",
   "version": "3.12.1"
  }
 },
 "nbformat": 4,
 "nbformat_minor": 5
}
