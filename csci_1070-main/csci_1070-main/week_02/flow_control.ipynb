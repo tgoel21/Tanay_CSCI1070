{
 "cells": [
  {
   "cell_type": "markdown",
   "id": "23866f12-7408-473c-957e-9aa35be73915",
   "metadata": {},
   "source": [
    "# Loops and Functions"
   ]
  },
  {
   "cell_type": "code",
   "execution_count": 2,
   "id": "1fb378ee-764a-4cb0-96c8-22568770e40c",
   "metadata": {},
   "outputs": [
    {
     "name": "stdout",
     "output_type": "stream",
     "text": [
      "a is greater\n"
     ]
    }
   ],
   "source": [
    "# loops are flow control. Changes how code executes iteratively, how data moves\n",
    "# through the applicaiton\n",
    "# if ... (elif ... else)\n",
    "# if and else are optional. Depends on what youre trying to do\n",
    "# if a equals b, return \"they are equal\". If a is greater than b \"a is greater\"\n",
    "# and if b is greater than a, return \"b is greater\"\n",
    "\n",
    "# == is comparing whereas = is setting something equal to something else (assigning a value)\n",
    "a = 20 \n",
    "b = 18\n",
    "if a == b: \n",
    "    print(\"they are equal\")\n",
    "elif a>b:\n",
    "    print(\"a is greater\")\n",
    "elif b>a: \n",
    "    print(\"b is greater\")\n"
   ]
  },
  {
   "cell_type": "code",
   "execution_count": 5,
   "id": "ec252dde-da58-427f-b261-d963a691c89d",
   "metadata": {},
   "outputs": [
    {
     "name": "stdout",
     "output_type": "stream",
     "text": [
      "7\n",
      "6\n"
     ]
    }
   ],
   "source": [
    "# while loops \n",
    "# repeatedly test an expression and continue to run whatever is in the loop\n",
    "# until a stopping condition is met\n",
    "x = 7\n",
    "while x > 5:\n",
    "    print(x)\n",
    "    #decrement our x so it can stop\n",
    "    # x = x - 1\n",
    "    x-=1"
   ]
  },
  {
   "cell_type": "code",
   "execution_count": 6,
   "id": "21187419-71ff-4a67-9f5a-c7df78defaec",
   "metadata": {},
   "outputs": [
    {
     "name": "stdout",
     "output_type": "stream",
     "text": [
      "3\n",
      "4\n",
      "5\n",
      "6\n",
      "7\n",
      "8\n",
      "9\n"
     ]
    }
   ],
   "source": [
    "# create a scenario where x starts at 3 and is incremented by 1\n",
    "# you print the value of x while x is less than 10\n",
    "x = 3\n",
    "while x < 10:\n",
    "    print(x)\n",
    "    x = x+1"
   ]
  },
  {
   "cell_type": "code",
   "execution_count": 9,
   "id": "e684a2cd-05d6-49eb-b7a6-2c833e19bf58",
   "metadata": {},
   "outputs": [
    {
     "name": "stdout",
     "output_type": "stream",
     "text": [
      "Dexter\n",
      "Grumpy\n",
      "Pete\n",
      "Dotty\n",
      "Fluffy\n"
     ]
    }
   ],
   "source": [
    "cats = [\"Dexter\",\"Grumpy\", \"Pete\", \"Dotty\", \"Fluffy\"]\n",
    "for z in cats:\n",
    "    print(z)"
   ]
  },
  {
   "cell_type": "code",
   "execution_count": 11,
   "id": "9dba1bb5-3ab3-403e-96d8-2119b224d39c",
   "metadata": {},
   "outputs": [
    {
     "name": "stdout",
     "output_type": "stream",
     "text": [
      "1\n",
      "3\n",
      "5\n",
      "7\n",
      "9\n"
     ]
    }
   ],
   "source": [
    "# range(start, stop[, step])\n",
    "# stop is exclusive, so its not included\n",
    "for r in range(1,10+1,2):\n",
    "    print(r)"
   ]
  },
  {
   "cell_type": "code",
   "execution_count": 15,
   "id": "1599544a-fa52-40c0-ab1a-e365803c8adf",
   "metadata": {},
   "outputs": [],
   "source": [
    "# if we our code to be reusable, we use a function!\n",
    "# and variables we want to use in the function need to be passed in\n",
    "# or defined inside the function itself.\n",
    "def comparison(a=0,b=0):\n",
    "    if a == b: \n",
    "        return \"they are equal\"\n",
    "    elif a>b:\n",
    "        return \"a is greater\"\n",
    "    elif b>a: \n",
    "        return \"b is greater\""
   ]
  },
  {
   "cell_type": "code",
   "execution_count": 13,
   "id": "48bcd1a7-dbfd-4c9f-b63d-86d86be3976f",
   "metadata": {},
   "outputs": [
    {
     "data": {
      "text/plain": [
       "'b is greater'"
      ]
     },
     "execution_count": 13,
     "metadata": {},
     "output_type": "execute_result"
    }
   ],
   "source": [
    "comparison(2,17)"
   ]
  },
  {
   "cell_type": "code",
   "execution_count": 17,
   "id": "30139f70-6bef-488e-8aca-ec38d0320f6f",
   "metadata": {},
   "outputs": [
    {
     "data": {
      "text/plain": [
       "'a is greater'"
      ]
     },
     "execution_count": 17,
     "metadata": {},
     "output_type": "execute_result"
    }
   ],
   "source": [
    "comparison(14)\n",
    "# b is defauled to 0"
   ]
  },
  {
   "cell_type": "code",
   "execution_count": null,
   "id": "8ee8849e-791d-4dfc-b1f9-d8a262c39d96",
   "metadata": {},
   "outputs": [],
   "source": []
  }
 ],
 "metadata": {
  "kernelspec": {
   "display_name": "Python 3 (ipykernel)",
   "language": "python",
   "name": "python3"
  },
  "language_info": {
   "codemirror_mode": {
    "name": "ipython",
    "version": 3
   },
   "file_extension": ".py",
   "mimetype": "text/x-python",
   "name": "python",
   "nbconvert_exporter": "python",
   "pygments_lexer": "ipython3",
   "version": "3.12.1"
  }
 },
 "nbformat": 4,
 "nbformat_minor": 5
}
