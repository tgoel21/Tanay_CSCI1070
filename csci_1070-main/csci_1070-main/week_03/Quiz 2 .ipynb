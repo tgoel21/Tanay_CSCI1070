{
 "cells": [
  {
   "cell_type": "code",
   "execution_count": null,
   "id": "037a6ee9-3123-48f5-ab9c-b2b121ef17dc",
   "metadata": {},
   "outputs": [],
   "source": [
    "# 1. (1 pt) Fill out my survey about yourself https://forms.gle/aQbRMZYrKBhV3RsJ9.\n",
    "# Make sure to include your name so you get points for doing so. "
   ]
  },
  {
   "cell_type": "code",
   "execution_count": 2,
   "id": "cf0a1aea-2a5d-4d19-95ca-6a980393a9e5",
   "metadata": {},
   "outputs": [],
   "source": [
    "# Edit the readme for your course repo to include a brief summary of who you are and what your repo contains.\n",
    "# Use the markdown guide https://www.markdownguide.org/basic-syntax/. and be sure to include at least 2 different\n",
    "# elements in the text. Make sure it renders like you think it should after you do question \n",
    "# 3. It is probably best to edit your readme from your local machine or else your local copy\n",
    "# and GitHub copy of your repo will likely get out of sync and cause you problems."
   ]
  },
  {
   "cell_type": "code",
   "execution_count": null,
   "id": "5a5e2bb5-8758-45dc-8389-63560d38fb6c",
   "metadata": {},
   "outputs": [],
   "source": [
    "# 3. (2 pts) add a .gitignore file to your repo, and push your code up to your repo using the following commands:\n",
    "# git add . (the . indicates to add all files you have changed, but you can also list the specific files, which is a better practice)\n",
    "# git commit -m \"<a message about your commit>\" (be sure to include a commit message that makes sense. I will be looking for this\n",
    "# git push"
   ]
  }
 ],
 "metadata": {
  "kernelspec": {
   "display_name": "Python 3 (ipykernel)",
   "language": "python",
   "name": "python3"
  },
  "language_info": {
   "codemirror_mode": {
    "name": "ipython",
    "version": 3
   },
   "file_extension": ".py",
   "mimetype": "text/x-python",
   "name": "python",
   "nbconvert_exporter": "python",
   "pygments_lexer": "ipython3",
   "version": "3.12.5"
  }
 },
 "nbformat": 4,
 "nbformat_minor": 5
}
