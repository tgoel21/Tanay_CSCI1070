{
 "cells": [
  {
   "cell_type": "code",
   "execution_count": null,
   "id": "6dfe3aec-741c-4fbd-9316-6c9de6735eeb",
   "metadata": {},
   "outputs": [],
   "source": [
    "# Starting with your assignment 5, select a model to predict the outcome. \n",
    "# For the Lending Club dataset, you are trying to predict if someone will pay back their loan or not. \n",
    "# Find one partner to work with who used the same dataset you did. "
   ]
  },
  {
   "cell_type": "code",
   "execution_count": null,
   "id": "16354a1b-767c-4862-b339-851359abc845",
   "metadata": {},
   "outputs": [],
   "source": [
    "# 1 pt will be given for indicating why you chose the model you did"
   ]
  },
  {
   "cell_type": "code",
   "execution_count": null,
   "id": "22d15709-06fb-4420-b9f9-a4c04361940a",
   "metadata": {},
   "outputs": [],
   "source": [
    "# Logistic Regression because it will classify data in a binary matter to predict outcomes."
   ]
  },
  {
   "cell_type": "code",
   "execution_count": null,
   "id": "33b93f02-205d-41a2-b508-e3bb0be30ed0",
   "metadata": {},
   "outputs": [],
   "source": [
    "# 4 pts will be given for the code itself"
   ]
  },
  {
   "cell_type": "code",
   "execution_count": 60,
   "id": "fa88314c-4799-48fc-89c7-1d354619a708",
   "metadata": {},
   "outputs": [
    {
     "name": "stdout",
     "output_type": "stream",
     "text": [
      "[nan]\n",
      "The target variable contains only one class.\n",
      "Accuracy: 1.0\n",
      "Classification Report:\n",
      "              precision    recall  f1-score   support\n",
      "\n",
      "         0.0       1.00      1.00      1.00        41\n",
      "\n",
      "    accuracy                           1.00        41\n",
      "   macro avg       1.00      1.00      1.00        41\n",
      "weighted avg       1.00      1.00      1.00        41\n",
      "\n",
      "Confusion Matrix:\n",
      "[[41  0]\n",
      " [ 0  0]]\n"
     ]
    }
   ],
   "source": [
    "import pandas as pd\n",
    "import seaborn as sns\n",
    "import matplotlib.pyplot as plt\n",
    "from sklearn.model_selection import train_test_split\n",
    "from sklearn.linear_model import LogisticRegression\n",
    "from sklearn.impute import SimpleImputer\n",
    "from sklearn.metrics import accuracy_score, classification_report, confusion_matrix\n",
    "from sklearn.tree import DecisionTreeClassifier\n",
    "\n",
    "loans = pd.read_csv('loans_full_schema.csv')\n",
    "loans = loans.dropna()\n",
    "loans = loans.drop_duplicates()\n",
    "loans['grade'] = loans['grade'].map({'A': 1, 'B': 2, 'C': 3, 'D': 4, 'E': 5, 'F': 6, 'G': 7})\n",
    "loans['term'] = loans['term'].map({' 36 months': 36, ' 60 months': 60})\n",
    "categorical_cols = ['emp_title',\n",
    "                    'state',\n",
    "                    'homeownership',\n",
    "                    'verified_income',\n",
    "                    'verification_income_joint',\n",
    "                    'loan_purpose',\n",
    "                    'application_type',\n",
    "                    'grade',\n",
    "                    'sub_grade',\n",
    "                    'issue_month',\n",
    "                    'loan_status',\n",
    "                    'initial_listing_status',\n",
    "                    'disbursement_method']\n",
    "le = LabelEncoder()\n",
    "for col in categorical_cols:\n",
    "    loans[col] = le.fit_transform(loans[col])\n",
    "X = loans.drop(['loan_status'], axis=1)\n",
    "y = loans['loan_status'].map({'Fully Paid': 1, 'Charged Off': 0})\n",
    "X_train, X_test, y_train, y_test = train_test_split(X, y, test_size=0.2, random_state=42)\n",
    "X_train = X_train.fillna(0)\n",
    "X_test = X_test.fillna(0)\n",
    "print(y_train.unique())\n",
    "y_train = y_train.map({1: 1, 0: 0})\n",
    "y_test = y_test.map({1: 1, 0: 0})\n",
    "if len(y_train.unique()) < 2:\n",
    "    print(\"The target variable contains only one class.\")\n",
    "    model = DecisionTreeClassifier()\n",
    "    y_train = y_train.fillna(0)\n",
    "    y_test = y_test.fillna(0)\n",
    "    model.fit(X_train, y_train)\n",
    "    y_pred = model.predict(X_test)\n",
    "    print('Accuracy:', accuracy_score(y_test,\n",
    "                                      y_pred))\n",
    "    print('Classification Report:')\n",
    "    print(classification_report(y_test,\n",
    "                                y_pred))\n",
    "    print('Confusion Matrix:')\n",
    "    print(confusion_matrix(y_test,\n",
    "                           y_pred,\n",
    "                           labels=[0, 1]))\n",
    "else:\n",
    "    log_reg = LogisticRegression(max_iter=1000)\n",
    "    log_reg.fit(X_train, y_train)\n",
    "    y_pred = log_reg.predict(X_test)\n",
    "    print('Accuracy:', accuracy_score(y_test, y_pred))\n",
    "    print('Classification Report:')\n",
    "    print(classification_report(y_test, y_pred))\n",
    "    print('Confusion Matrix:')\n",
    "    print(confusion_matrix(y_test, y_pred, labels=[0, 1]))"
   ]
  },
  {
   "cell_type": "code",
   "execution_count": 43,
   "id": "ac24d8c5-7c1e-4817-b26c-25edf3715393",
   "metadata": {},
   "outputs": [
    {
     "name": "stdout",
     "output_type": "stream",
     "text": [
      "Requirement already satisfied: scikit-learn in /opt/homebrew/Cellar/jupyterlab/4.2.3/libexec/lib/python3.12/site-packages (1.5.2)\n",
      "Requirement already satisfied: numpy>=1.19.5 in /opt/homebrew/Cellar/jupyterlab/4.2.3/libexec/lib/python3.12/site-packages (from scikit-learn) (2.1.1)\n",
      "Requirement already satisfied: scipy>=1.6.0 in /opt/homebrew/Cellar/jupyterlab/4.2.3/libexec/lib/python3.12/site-packages (from scikit-learn) (1.14.1)\n",
      "Requirement already satisfied: joblib>=1.2.0 in /opt/homebrew/Cellar/jupyterlab/4.2.3/libexec/lib/python3.12/site-packages (from scikit-learn) (1.4.2)\n",
      "Requirement already satisfied: threadpoolctl>=3.1.0 in /opt/homebrew/Cellar/jupyterlab/4.2.3/libexec/lib/python3.12/site-packages (from scikit-learn) (3.5.0)\n",
      "Note: you may need to restart the kernel to use updated packages.\n"
     ]
    }
   ],
   "source": [
    "pip install scikit-learn"
   ]
  },
  {
   "cell_type": "code",
   "execution_count": null,
   "id": "5791265e-99da-4e4d-8cb1-bcc94af21273",
   "metadata": {},
   "outputs": [],
   "source": []
  }
 ],
 "metadata": {
  "kernelspec": {
   "display_name": "Python 3 (ipykernel)",
   "language": "python",
   "name": "python3"
  },
  "language_info": {
   "codemirror_mode": {
    "name": "ipython",
    "version": 3
   },
   "file_extension": ".py",
   "mimetype": "text/x-python",
   "name": "python",
   "nbconvert_exporter": "python",
   "pygments_lexer": "ipython3",
   "version": "3.12.5"
  }
 },
 "nbformat": 4,
 "nbformat_minor": 5
}
